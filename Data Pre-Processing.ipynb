{
 "cells": [
  {
   "cell_type": "code",
   "execution_count": 2,
   "metadata": {},
   "outputs": [],
   "source": [
    "import pandas as pd\n",
    "import numpy as np\n",
    "import matplotlib.pyplot as plt\n",
    "import seaborn as sns"
   ]
  },
  {
   "cell_type": "markdown",
   "metadata": {},
   "source": [
    "# Data Pre-Processing"
   ]
  },
  {
   "cell_type": "markdown",
   "metadata": {},
   "source": [
    "## Why Pre-Process the data? "
   ]
  },
  {
   "cell_type": "markdown",
   "metadata": {},
   "source": [
    ">Data in the real world is dirty. \n",
    "- Incomplete\n",
    "    1. Lacking attributes values (ex: doesnt have name of coloumn).\n",
    "    2. Lacking certain attributes of interest.\n",
    "    3. Containing only aggregate data.\n",
    "- Inconsistent\n",
    "    1. Containing discrepancies in codes or names.\n",
    "- Noisy\n",
    "    1. Containing errors or outliers (ex: Salary = negative ).\n",
    "\n",
    ">No Quality data, no quality mining results!"
   ]
  },
  {
   "cell_type": "markdown",
   "metadata": {},
   "source": [
    "> Tahap Pre-Processing\n",
    "- Data Cleaning\n",
    "    1. Fill in missing values\n",
    "    2. Smooth noisy data\n",
    "    3. Identify or remove outliers\n",
    "    4. Resolve inconsistencies\n",
    "\n",
    "- Data Integration\n",
    "    1. Multiples databases\n",
    "    2. Data cubes\n",
    "\n",
    "- Data Transformation\n",
    "    1. Normalization\n",
    "    2. Aggregation: Compacting\n",
    "    3. Generalization: Ex desease.\n",
    "\n",
    "- Data Reduction\n",
    "    1. Obtaining reduced representation in volume but produces the same or similar analytical results.\n",
    "\n",
    "- Data Discretization\n",
    "    1. Part of data reduction but with particular importance, especially for numerical data."
   ]
  },
  {
   "cell_type": "markdown",
   "metadata": {},
   "source": [
    "## Descriptive data Sumarization"
   ]
  },
  {
   "cell_type": "markdown",
   "metadata": {},
   "source": [
    "## Data Cleaning"
   ]
  }
 ],
 "metadata": {
  "kernelspec": {
   "display_name": "Python 3",
   "language": "python",
   "name": "python3"
  },
  "language_info": {
   "codemirror_mode": {
    "name": "ipython",
    "version": 3
   },
   "file_extension": ".py",
   "mimetype": "text/x-python",
   "name": "python",
   "nbconvert_exporter": "python",
   "pygments_lexer": "ipython3",
   "version": "3.10.5"
  }
 },
 "nbformat": 4,
 "nbformat_minor": 2
}
